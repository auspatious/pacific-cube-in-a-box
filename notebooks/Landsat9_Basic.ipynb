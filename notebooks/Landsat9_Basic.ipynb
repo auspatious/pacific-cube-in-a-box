{
 "cells": [
  {
   "cell_type": "code",
   "execution_count": null,
   "metadata": {},
   "outputs": [],
   "source": [
    "import datacube\n",
    "from planetary_computer import sign_url\n",
    "from dea_tools.plotting import rgb"
   ]
  },
  {
   "cell_type": "code",
   "execution_count": null,
   "metadata": {},
   "outputs": [],
   "source": [
    "dc = datacube.Datacube(app='ls9-example')"
   ]
  },
  {
   "cell_type": "code",
   "execution_count": null,
   "metadata": {},
   "outputs": [],
   "source": [
    "datasets = dc.find_datasets(product=\"ls9_c2l2_sr\", region_code=\"069069\", time=\"20230505\")\n",
    "\n",
    "print(f\"Found {len(datasets)} datasets\")"
   ]
  },
  {
   "cell_type": "code",
   "execution_count": null,
   "metadata": {},
   "outputs": [],
   "source": [
    "data = dc.load(\n",
    "    datasets=datasets,\n",
    "    measurements=[\"red\", \"green\", \"blue\"],\n",
    "    output_crs=\"EPSG:3832\",\n",
    "    resolution=(-30, 30),\n",
    "    lon=(-172.825, -172.125),\n",
    "    lat=(-13.85, -13.4),\n",
    "    patch_url=sign_url,\n",
    "    skip_broken_datasets=True\n",
    ")\n",
    "data"
   ]
  },
  {
   "cell_type": "code",
   "execution_count": null,
   "metadata": {},
   "outputs": [],
   "source": [
    "data = data.where(data != 0)\n",
    "scaled = data * 2.75e-5 - 0.2"
   ]
  },
  {
   "cell_type": "code",
   "execution_count": null,
   "metadata": {},
   "outputs": [],
   "source": [
    "rgb(scaled, bands=[\"red\", \"green\", \"blue\"], size=10)"
   ]
  },
  {
   "cell_type": "code",
   "execution_count": null,
   "metadata": {},
   "outputs": [],
   "source": [
    "import odc.ui\n",
    "import ipyleaflet\n",
    "from ipywidgets import widgets as w\n",
    "\n",
    "polygons, bbox = odc.ui.dss_to_geojson(data.red, bbox=True)\n",
    "\n",
    "\n",
    "zoom = odc.ui.zoom_from_bbox(bbox)\n",
    "center = (bbox.bottom + bbox.top) * 0.5, (bbox.right + bbox.left) * 0.5\n",
    "\n",
    "m = ipyleaflet.Map(\n",
    "    center=center,\n",
    "    zoom=zoom,\n",
    "    scroll_wheel_zoom=True,  # Allow zoom with the mouse scroll wheel\n",
    "    layout=w.Layout(\n",
    "        width='600px',   # Set Width of the map to 600 pixels, examples: \"100%\", \"5em\", \"300px\"\n",
    "        height='600px',  # Set height of the map\n",
    "    ))\n",
    "\n",
    "# Add full-screen and layer visibility controls\n",
    "m.add_control(ipyleaflet.FullScreenControl())\n",
    "m.add_control(ipyleaflet.LayersControl())\n",
    "\n",
    "img_layer = odc.ui.mk_image_overlay(\n",
    "    scaled.isel(time=0),\n",
    "    clamp=(0, 0.2),\n",
    "    # clamp=(2700, 20000),  # 3000 -- brightest pixel level\n",
    "    fmt='png',\n",
    "    bands=[\"red\", \"green\", \"blue\"],\n",
    ")   # \"jpeg\" is another option\n",
    "\n",
    "# Add image layer to a map we created earlier\n",
    "m.add_layer(img_layer)\n",
    "\n",
    "slider = w.FloatSlider(min=0, max=1, value=1,        # Opacity is valid in [0,1] range\n",
    "                       orientation='horizontal',     # Vertical slider is what we want\n",
    "                       readout=False,                # No need to show exact value\n",
    "                       layout=w.Layout(width='6em')) # Fine tune display layout: make it thinner\n",
    "\n",
    "# Connect slider value to opacity property of the Image Layer\n",
    "w.jslink((slider, 'value'),         \n",
    "         (img_layer, 'opacity') )\n",
    "m.add_control(ipyleaflet.WidgetControl(widget=slider))\n",
    "\n",
    "display(m)"
   ]
  }
 ],
 "metadata": {
  "kernelspec": {
   "display_name": "Python 3",
   "language": "python",
   "name": "python3"
  },
  "language_info": {
   "codemirror_mode": {
    "name": "ipython",
    "version": 3
   },
   "file_extension": ".py",
   "mimetype": "text/x-python",
   "name": "python",
   "nbconvert_exporter": "python",
   "pygments_lexer": "ipython3",
   "version": "3.11.6"
  },
  "orig_nbformat": 4
 },
 "nbformat": 4,
 "nbformat_minor": 2
}
