{
 "cells": [
  {
   "cell_type": "code",
   "execution_count": null,
   "metadata": {},
   "outputs": [],
   "source": [
    "import pystac\n",
    "from planetary_computer import sign_url, sign_item\n",
    "from pathlib import Path\n",
    "import requests"
   ]
  },
  {
   "cell_type": "code",
   "execution_count": null,
   "metadata": {},
   "outputs": [],
   "source": [
    "item = pystac.Item.from_file(\"https://planetarycomputer.microsoft.com/api/stac/v1/collections/sentinel-2-l2a/items/S2A_MSIL2A_20230623T214811_R043_T02LMK_20230624T044756\")"
   ]
  },
  {
   "cell_type": "code",
   "execution_count": null,
   "metadata": {},
   "outputs": [],
   "source": [
    "signed = sign_item(item)\n",
    "\n",
    "folder = Path(\"files\") / item.id\n",
    "folder.mkdir(exist_ok=True)\n",
    "\n",
    "for asset in signed.assets.values():\n",
    "    # local_file is the final part of the URL, e.g. \"S2A_MSIL2A_20230623T214811_R043_T02LMK_20230624T044756.tif\"\n",
    "    local_file = folder / Path(asset.href).name.split(\"?\")[0]\n",
    "    print(f\"Downloading {asset.href} to {local_file}\")\n",
    "\n",
    "    # Download the file using requests\n",
    "    with open(local_file, \"wb\") as f:\n",
    "        f.write(requests.get(asset.href).content)\n",
    "\n"
   ]
  }
 ],
 "metadata": {
  "kernelspec": {
   "display_name": "Python 3",
   "language": "python",
   "name": "python3"
  },
  "language_info": {
   "codemirror_mode": {
    "name": "ipython",
    "version": 3
   },
   "file_extension": ".py",
   "mimetype": "text/x-python",
   "name": "python",
   "nbconvert_exporter": "python",
   "pygments_lexer": "ipython3",
   "version": "3.11.6"
  },
  "orig_nbformat": 4
 },
 "nbformat": 4,
 "nbformat_minor": 2
}
