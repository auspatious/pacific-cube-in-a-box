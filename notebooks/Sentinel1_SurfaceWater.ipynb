{
 "cells": [
  {
   "cell_type": "code",
   "execution_count": null,
   "metadata": {},
   "outputs": [],
   "source": [
    "import datacube\n",
    "from planetary_computer import sign_url\n",
    "import holoviews as hv\n",
    "\n",
    "from dea_tools.plotting import rgb\n",
    "\n",
    "import hvplot.xarray\n",
    "hv.extension('bokeh')"
   ]
  },
  {
   "cell_type": "code",
   "execution_count": null,
   "metadata": {},
   "outputs": [],
   "source": [
    "dc = datacube.Datacube()"
   ]
  },
  {
   "cell_type": "code",
   "execution_count": null,
   "metadata": {},
   "outputs": [],
   "source": [
    "# Find data over Fiji\n",
    "lon = [177, 179]\n",
    "lat = [-18.5, -17]\n",
    "datasets = dc.find_datasets(product=\"sentinel_1_rtc\", lon=lon, lat=lat)\n",
    "\n",
    "print(f\"Found {len(datasets)} datasets\")"
   ]
  },
  {
   "cell_type": "code",
   "execution_count": null,
   "metadata": {},
   "outputs": [],
   "source": [
    "data = dc.load(datasets=datasets[0:1], output_crs=\"EPSG:3832\", resolution=(-25, 25), patch_url=sign_url, lon=lon, lat=lat)\n",
    "data = data.where(data.vv != -32768)\n",
    "\n",
    "data"
   ]
  },
  {
   "cell_type": "code",
   "execution_count": null,
   "metadata": {},
   "outputs": [],
   "source": [
    "# Remove the time dimension\n",
    "data = data.squeeze(\"time\")"
   ]
  },
  {
   "cell_type": "code",
   "execution_count": null,
   "metadata": {},
   "outputs": [],
   "source": [
    "window_size = 3\n",
    "\n",
    "# Add vv/vh\n",
    "data[\"vv_vh\"] = data.vv / data.vh\n",
    "\n",
    "# Smooth the dataset with a rolling mean\n",
    "data[\"vv_smoothed\"] = data.vv.rolling(x=window_size, y=window_size, center=True).mean()\n",
    "data[\"vh_smoothed\"] = data.vh.rolling(x=window_size, y=window_size, center=True).mean()\n",
    "data[\"vv_vh_smoothed\"] = data.vv_vh.rolling(x=window_size, y=window_size, center=True).mean()\n",
    "\n",
    "median = data[[\"vv_smoothed\", \"vh_smoothed\", \"vv_vh_smoothed\"]].median()"
   ]
  },
  {
   "cell_type": "code",
   "execution_count": null,
   "metadata": {},
   "outputs": [],
   "source": [
    "rgb(data[[\"vv_smoothed\", \"vh_smoothed\", \"vv_vh_smoothed\"]] / median, bands=[\"vv_smoothed\", \"vh_smoothed\", \"vv_vh_smoothed\"], size=10)"
   ]
  },
  {
   "cell_type": "code",
   "execution_count": null,
   "metadata": {},
   "outputs": [],
   "source": [
    "data.vv_smoothed.hvplot.hist(bins=100, bin_range=(0, 0.5), title=\"VV Histogram\")"
   ]
  },
  {
   "cell_type": "code",
   "execution_count": null,
   "metadata": {},
   "outputs": [],
   "source": [
    "data[\"water\"] = data.vv_smoothed < 0.04\n",
    "data[\"water\"] = data.water.where(data.water)"
   ]
  },
  {
   "cell_type": "code",
   "execution_count": null,
   "metadata": {},
   "outputs": [],
   "source": [
    "import folium\n",
    "import odc.geo.xr\n",
    "\n",
    "m = folium.Map(control_scale=True, tiles=None)\n",
    "\n",
    "data.vv_smoothed.odc.add_to(m, opacity=1.0, name=\"vv_smoothed\", vmin=0, vmax=0.5)\n",
    "data.vv.odc.add_to(m, opacity=1.0, name=\"vv\", vmin=0, vmax=0.5)\n",
    "data.water.odc.add_to(m, opacity=1.0, name=\"water\", vmin=0, vmax=1, cmap=\"Blues\")\n",
    "\n",
    "# Zoom map\n",
    "m.fit_bounds(data.odc.map_bounds())\n",
    "\n",
    "tile = folium.TileLayer(\n",
    "    tiles = 'https://server.arcgisonline.com/ArcGIS/rest/services/World_Imagery/MapServer/tile/{z}/{y}/{x}',\n",
    "    attr = 'Esri',\n",
    "    name = 'Esri Satellite',\n",
    "    overlay = False,\n",
    "    control = True\n",
    ").add_to(m)\n",
    "folium.TileLayer('openstreetmap').add_to(m)\n",
    "\n",
    "folium.LayerControl().add_to(m)\n",
    "display(m)"
   ]
  }
 ],
 "metadata": {
  "kernelspec": {
   "display_name": "Python 3",
   "language": "python",
   "name": "python3"
  },
  "language_info": {
   "codemirror_mode": {
    "name": "ipython",
    "version": 3
   },
   "file_extension": ".py",
   "mimetype": "text/x-python",
   "name": "python",
   "nbconvert_exporter": "python",
   "pygments_lexer": "ipython3",
   "version": "3.11.4"
  },
  "orig_nbformat": 4
 },
 "nbformat": 4,
 "nbformat_minor": 2
}
